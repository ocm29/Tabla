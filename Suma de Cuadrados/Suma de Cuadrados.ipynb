{
  "metadata": {
    "language_info": {
      "codemirror_mode": {
        "name": "python",
        "version": 3
      },
      "file_extension": ".py",
      "mimetype": "text/x-python",
      "name": "python",
      "nbconvert_exporter": "python",
      "pygments_lexer": "ipython3",
      "version": "3.8"
    },
    "kernelspec": {
      "name": "python",
      "display_name": "Python (Pyodide)",
      "language": "python"
    }
  },
  "nbformat_minor": 4,
  "nbformat": 4,
  "cells": [
    {
      "cell_type": "markdown",
      "source": "### Suma de Cuadrados ",
      "metadata": {}
    },
    {
      "cell_type": "markdown",
      "source": "Para expresar un número como una suma de cuadrados con la menor cantidad de cuadrados se puede utilizar el algoritmo de la suma de cuadrados de Lagrange. ",
      "metadata": {}
    },
    {
      "cell_type": "code",
      "source": "import math\ndef suma_cuadrados(n):\n    squares = []\n\n    while n > 0:\n        # Buscamos el número más grande que sea un cuadrado y que sea menor o igual a n\n        x = int(math.sqrt(n))\n        #Ej si n =5 x =2\n\n        # Agregamos el cuadrado a la lista de cuadrados\n        squares.append(x)\n\n        # Restamos el cuadrado del número n\n        n -= x**2\n\n    # Devolvemos la lista de cuadrados\n    return squares\n \n    # Iteramos hasta que el número se reduzca a cero\n   \n   \n\n\nn =3540\nprint( suma_cuadrados(n))\n",
      "metadata": {
        "tags": [],
        "trusted": true
      },
      "execution_count": 4,
      "outputs": [
        {
          "name": "stdout",
          "text": "[59, 7, 3, 1]\n",
          "output_type": "stream"
        }
      ]
    },
    {
      "cell_type": "markdown",
      "source": "En este ejemplo, la función suma_cuadrados toma un número n como argumento y devuelve una lista de los cuadrados que suman n con la menor cantidad de cuadrados posible.",
      "metadata": {}
    },
    {
      "cell_type": "markdown",
      "source": "En el ejemplo n es 3540  y la función devuelve la lista [59, 7, 3, 1], lo que significa que 3540 se puede expresar como la suma de tres cuadrados: 3540 = 59^2+7^2+3^2+1^2",
      "metadata": {}
    },
    {
      "cell_type": "code",
      "source": "(59**2)+(7**2)+(3**2)+(1**2)",
      "metadata": {
        "trusted": true
      },
      "execution_count": 8,
      "outputs": [
        {
          "execution_count": 8,
          "output_type": "execute_result",
          "data": {
            "text/plain": "3540"
          },
          "metadata": {}
        }
      ]
    }
  ]
}