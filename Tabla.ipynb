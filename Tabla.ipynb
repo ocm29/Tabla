{
 "cells": [
  {
   "cell_type": "markdown",
   "id": "648a5b45-aaef-4374-806a-6611861443e2",
   "metadata": {
    "tags": []
   },
   "source": [
    "### Verificacion de Tabla"
   ]
  },
  {
   "cell_type": "code",
   "execution_count": 109,
   "id": "dc3a89f4-2c80-4dd1-868d-2ef468b21094",
   "metadata": {},
   "outputs": [],
   "source": [
    "problema =  \"fbdeciahg\"\\\n",
    "            \"eaigbhfcd\"\\\n",
    "            \"hcgfadbie\"\\\n",
    "            \"adchfegbi\"\\\n",
    "            \"iehbdgcfa\"\\\n",
    "            \"gfbciadeh\"\\\n",
    "            \"cgaiefhdb\"\\\n",
    "            \"difahbegc\"\\\n",
    "            \"bhedgciaf\""
   ]
  },
  {
   "cell_type": "markdown",
   "id": "84431a87-faae-4565-87fe-ff922eec42f4",
   "metadata": {},
   "source": [
    "Convierte un problema en formato cadena a matriz,\n",
    "Parámetro problema: Una cadena de 81 dígitos.\n",
    "Retorna: Una matriz (lista de listas)"
   ]
  },
  {
   "cell_type": "code",
   "execution_count": 86,
   "id": "bf2d6afe-2c7f-4da4-b6f4-580ee95b704d",
   "metadata": {},
   "outputs": [],
   "source": [
    "def str_sudoku(problema):\n",
    "    \n",
    "    \n",
    "    matriz = []\n",
    "    for fila in range(9):\n",
    "        matriz.append(list(problema[fila * 9: (fila + 1) * 9]))\n",
    "    return matriz"
   ]
  },
  {
   "cell_type": "markdown",
   "id": "43027f35-57d9-4004-bb87-14a23b9b6a46",
   "metadata": {},
   "source": [
    "Verifica que todos los elementos pertenezcan al mismo conjunto "
   ]
  },
  {
   "cell_type": "code",
   "execution_count": 104,
   "id": "7ef13aca-2fb0-4cf3-9d4f-ada20d12d2fc",
   "metadata": {},
   "outputs": [],
   "source": [
    "def cerrada(lista):\n",
    "    m = len(lista) \n",
    "    i=0\n",
    "    while not(i>=m):\n",
    "            if  not lista[i].isalpha():\n",
    "                return False\n",
    "                \n",
    "            i=i+1  \n",
    "    \n",
    "    return True"
   ]
  },
  {
   "cell_type": "markdown",
   "id": "cae2aa8b-ee7d-4f1b-bb1f-49cbec47c9a0",
   "metadata": {},
   "source": [
    "Revisa que la lista contenga los dígitos 1-9 sin faltar.\\\n",
    "parametro: Una lista de 9 enteros \\\n",
    "return: True si la lista contiene todos los Dígitos de 1 a 9."
   ]
  },
  {
   "cell_type": "code",
   "execution_count": 89,
   "id": "5ef51e83-7da4-4469-b402-0ac9ca2dfabb",
   "metadata": {},
   "outputs": [],
   "source": [
    "def revisar9(lista):\n",
    "    \n",
    "    return len(set(lista)) == 9"
   ]
  },
  {
   "cell_type": "markdown",
   "id": "91666f53-0bf3-4d07-916e-51fb8df4292c",
   "metadata": {},
   "source": [
    "Extrae la caja y la convierte en lista:\n",
    "    Param sudoku: La matriz (lista de listas)\\\n",
    "    Param numero: 0, 1, 2, ... 8, el número de la caja\\\n",
    "    Return: Una lista con los 9 elementos dentro de la caja"
   ]
  },
  {
   "cell_type": "code",
   "execution_count": 90,
   "id": "25fada3c-b420-4329-8a00-61b497475334",
   "metadata": {},
   "outputs": [],
   "source": [
    "def extraer_caja(sudoku, numero):\n",
    "    lista = []\n",
    "    #   Calcular la fila y columna de la esquina\n",
    "    #   superior izquierda de la caja.\n",
    "    fila = 3 * (numero // 3)\n",
    "    columna = 3 * (numero % 3)\n",
    "    #   Extraer los 9 digitos de la caja y\n",
    "    #   ponerlos en una lista.\n",
    "    for row in range(fila, fila + 3):\n",
    "        lista.extend(sudoku[row][columna:columna + 3])\n",
    "        \n",
    "    return lista\n"
   ]
  },
  {
   "cell_type": "markdown",
   "id": "8954b47d-7e37-44a0-a4fd-f27f37d34fde",
   "metadata": {},
   "source": [
    "Revisa la corrección de la solución\n",
    "\n",
    "    Param sudoku: La matriz (lista de listas)\n",
    "    Return: True si el sudoku está bien resuelto"
   ]
  },
  {
   "cell_type": "code",
   "execution_count": 98,
   "id": "c520bf57-b0b7-48f2-9623-79e58e0719ca",
   "metadata": {},
   "outputs": [],
   "source": [
    "def revisar(sudoku):\n",
    "    \n",
    "    for fila in sudoku:\n",
    "       if cerrada(fila)==0:\n",
    "            return False   \n",
    "            \n",
    "    #   Revisar por filas.\n",
    "    for fila in sudoku:\n",
    "        if not revisar9(fila):\n",
    "            return False\n",
    "    #   Revisar por columnas\n",
    "    for columna in range(9):\n",
    "        col = []\n",
    "        #   Reunir los digitos en la columna\n",
    "        for fila in range(9):\n",
    "            col.append(sudoku[fila][columna])\n",
    "        #   Revisar los digitos.\n",
    "        if not revisar9(col):\n",
    "            return False\n",
    "    #   Revisar por cajas\n",
    "    for caja in range(9):\n",
    "        #   Extraer los digitos de la caja\n",
    "        box = extraer_caja(sudoku, caja)\n",
    "        #   Revisar los digitos.\n",
    "        if not revisar9(box):\n",
    "            return False\n",
    "    #   A estas alturas, la solución es correcta.\n",
    "    return True\n"
   ]
  },
  {
   "cell_type": "markdown",
   "id": "fb8f3b96-c236-40dd-8514-3df24b35e0fd",
   "metadata": {},
   "source": [
    "Imprime un sudoku,\n",
    "Parámetro sudoku: La matriz (lista de listas)"
   ]
  },
  {
   "cell_type": "code",
   "execution_count": 87,
   "id": "b1ac710e-bbef-4085-9922-acd64785bf41",
   "metadata": {},
   "outputs": [],
   "source": [
    "def print_sudoku(sudoku):\n",
    "    \n",
    "    for fila in sudoku:\n",
    "        for columna in fila:\n",
    "            print(columna, end=\" \")\n",
    "        print()\n",
    "    print()"
   ]
  },
  {
   "cell_type": "code",
   "execution_count": 110,
   "id": "d877b4ad-82ac-423c-a2a6-dc0e158ec39f",
   "metadata": {},
   "outputs": [
    {
     "name": "stdout",
     "output_type": "stream",
     "text": [
      "f b d e c i a h g \n",
      "e a i g b h f c d \n",
      "h c g f a d b i e \n",
      "a d c h f e g b i \n",
      "i e h b d g c f a \n",
      "g f b c i a d e h \n",
      "c g a i e f h d b \n",
      "d i f a h b e g c \n",
      "b h e d g c i a f \n",
      "\n",
      "Correcto\n"
     ]
    }
   ],
   "source": [
    "sudoku = str_sudoku(problema)\n",
    "print_sudoku(sudoku)\n",
    "if (revisar(sudoku)):\n",
    "    print(\"Correcto\")\n",
    "else:\n",
    "    print(\"Incorrecto\")\n"
   ]
  },
  {
   "cell_type": "code",
   "execution_count": null,
   "id": "f38284e5-7a75-44ba-9db2-18dd525da5b7",
   "metadata": {},
   "outputs": [],
   "source": []
  },
  {
   "cell_type": "code",
   "execution_count": null,
   "id": "81815725-405e-475e-8623-b7d3538df955",
   "metadata": {},
   "outputs": [],
   "source": []
  }
 ],
 "metadata": {
  "kernelspec": {
   "display_name": "anaconda-2022.05-py39",
   "language": "python",
   "name": "conda-env-anaconda-2022.05-py39-py"
  },
  "language_info": {
   "codemirror_mode": {
    "name": "ipython",
    "version": 3
   },
   "file_extension": ".py",
   "mimetype": "text/x-python",
   "name": "python",
   "nbconvert_exporter": "python",
   "pygments_lexer": "ipython3",
   "version": "3.9.12"
  }
 },
 "nbformat": 4,
 "nbformat_minor": 5
}
