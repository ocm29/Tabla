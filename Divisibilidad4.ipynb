{
  "metadata": {
    "language_info": {
      "codemirror_mode": {
        "name": "python",
        "version": 3
      },
      "file_extension": ".py",
      "mimetype": "text/x-python",
      "name": "python",
      "nbconvert_exporter": "python",
      "pygments_lexer": "ipython3",
      "version": "3.8"
    },
    "kernelspec": {
      "name": "python",
      "display_name": "Python (Pyodide)",
      "language": "python"
    }
  },
  "nbformat_minor": 4,
  "nbformat": 4,
  "cells": [
    {
      "cell_type": "markdown",
      "source": "### Divisibilidad por 4",
      "metadata": {}
    },
    {
      "cell_type": "markdown",
      "source": "\nUn entero es divisible por 4 si y solo si los últimos dos dígitos de su representación decimal son divisibles por 4.",
      "metadata": {}
    },
    {
      "cell_type": "markdown",
      "source": "* 12 es divisible por 4, ya que los últimos dos dígitos son 12, que son divisibles por 4.\n\n* 2476 es divisible por 4, ya que los últimos dos dígitos son 76, que son divisibles por 4.\n\n* 21 no es divisible por 4, ya que los últimos dos dígitos son 25, que no son divisibles por 4.",
      "metadata": {}
    },
    {
      "cell_type": "markdown",
      "source": "Si un número es divisible por 4, entonces se puede expresar como 4k para algún número entero k. Podemos escribir el número como:",
      "metadata": {}
    },
    {
      "cell_type": "markdown",
      "source": "a[n] * 10^n + a[n-1] * 10^(n-1) + ... + a[2] * 10^2 + a[1] * 10 + a[0]\n",
      "metadata": {}
    },
    {
      "cell_type": "markdown",
      "source": "donde a[n], a[n-1], ..., a[0] son los dígitos del número. Observemos que 10^n es divisible por 4 para n >= 2, ya que 10^2 = 100 es divisible por 4, y cualquier potencia de 10 mayor que 10^2 se puede expresar como un producto de potencias de 10 menores que 10^2. Por lo tanto, si un número es divisible por 4, entonces a[1] * 10 + a[0] debe ser divisible por 4, ya que el término a[n] * 10^n + a[n-1] * 10^(n-1) + ... + a[2] * 10^2 es divisible por 4. Pero a[1] * 10 + a[0] es igual a los últimos dos dígitos del número, por lo que concluimos que un número es divisible por 4 si y solo si los últimos dos dígitos son divisibles por 4.",
      "metadata": {}
    },
    {
      "cell_type": "code",
      "source": "def es_divisible_por_4(numero):\n    if numero % 4 == 0:\n        return True\n    else:\n        return False\n\n# Ejemplo de uso\nnumero = 12457894643124\n\nif es_divisible_por_4(numero):\n    print(numero, \"es divisible por 4\")\nelse:\n    print(numero, \"no es divisible por 4\")",
      "metadata": {
        "trusted": true
      },
      "execution_count": 5,
      "outputs": [
        {
          "name": "stdout",
          "text": "12457894643124 es divisible por 4\n",
          "output_type": "stream"
        }
      ]
    },
    {
      "cell_type": "markdown",
      "source": "Como vemos e este ejemplo el numero 12457894643124 sus dos ultimas cifras se componen de 24 el cual es un numero divisible entre 4.",
      "metadata": {}
    },
    {
      "cell_type": "code",
      "source": "",
      "metadata": {},
      "execution_count": null,
      "outputs": []
    }
  ]
}