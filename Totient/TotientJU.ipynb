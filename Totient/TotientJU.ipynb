{
  "cells": [
    {
      "cell_type": "markdown",
      "metadata": {},
      "source": [
        "### Coprimos\n",
        "\n",
        "\n",
        "\n",
        "\n",
        "\n",
        "\n",
        "\n",
        "\n",
        "\n",
        "\n",
        "\n",
        "\n"
      ]
    },
    {
      "cell_type": "markdown",
      "metadata": {},
      "source": [
        "Siendo n un numero entero positivo conocer los numeros menores a n y coprimos con este nos permite saber los posibles tamaños de subgrupos de un grupo.\n",
        "### Verificacion de coprimos uno a uno\n",
        "Primero creamos una funcin que retorne el MCD"
      ]
    },
    {
      "cell_type": "code",
      "execution_count": 6,
      "metadata": {
        "trusted": true
      },
      "outputs": [],
      "source": [
        "def mcd(a, b):\n",
        "    \n",
        "    while b != 0:\n",
        "        temp = b\n",
        "        b = a % b\n",
        "        a = temp\n",
        "    return a"
      ]
    },
    {
      "cell_type": "markdown",
      "metadata": {},
      "source": [
        "Luego se crea una funcion que recibe el entero n, utiliza la funcion anterior para verificar que MCD = 1 y retorna el tamaño del arreglo donde se almacenan los numeros que cumplen la condición.\n",
        "def find_numbers(n):"
      ]
    },
    {
      "cell_type": "code",
      "execution_count": 7,
      "metadata": {
        "trusted": true
      },
      "outputs": [],
      "source": [
        "def find_numbers(n):\n",
        "    result = []\n",
        "    for i in range(1, n):\n",
        "        \n",
        "    \n",
        "        if (mcd(i,n) == 1 ):\n",
        "         \n",
        "  \n",
        "            result.append(i)\n",
        "    return len(result)"
      ]
    },
    {
      "cell_type": "markdown",
      "metadata": {},
      "source": [
        "por ultimo se tiene el codigo que solicita el n y luego imprime la funcion."
      ]
    },
    {
      "cell_type": "code",
      "execution_count": 8,
      "metadata": {
        "trusted": true
      },
      "outputs": [],
      "source": [
        "n = int(input(\"Enter a value for n: \"))\n"
      ]
    },
    {
      "cell_type": "code",
      "execution_count": 9,
      "metadata": {
        "trusted": true
      },
      "outputs": [
        {
          "name": "stdout",
          "output_type": "stream",
          "text": [
            "8\n"
          ]
        }
      ],
      "source": [
        "print(find_numbers(n))"
      ]
    },
    {
      "cell_type": "markdown",
      "metadata": {},
      "source": [
        "### Totient de Euler\n",
        "El totiente de un número natural n es indicar que es la cantidad de números enteros positivos menores que n tales que el máximo común divisor con respecto a n es igual a 1.\n",
        "Se sigue de la definición que $\\varphi (m)=1$ pues el elemento 1 sólo puede ser coprimo consigo mismo. Por lo que la funcion retorna 1"
      ]
    },
    {
      "cell_type": "markdown",
      "metadata": {},
      "source": [
        "$\\cdot$ La variable result se inicializa en n\n",
        "\n",
        "$\\cdot$ La función luego verifica todos los números primos p menores o iguales que la raíz cuadrada de n utilizando un bucle while\n",
        "\n",
        "$\\cdot$ Si p divide a n, entonces la función divide n por p repetidamente hasta que ya no sea divisible por p.\n",
        "\n",
        "$\\cdot$ Luego resta el resultado dividido por p al resultado. Esto se debe a que φ(n) es igual a n multiplicado por el producto de (1 - 1/p) sobre todos los factores primos distintos p de n.\n",
        "\n",
        "$\\cdot$ Despues el bucle incrementa p en q hasta que p*p sea mayor que n\n",
        "\n",
        "$\\cdot$   Si n sigue siendo mayor que 1, la función resta al resultado el cociente resultante de dividir el resultado entre n, ya que n es un factor primo de n.\n"
      ]
    },
    {
      "cell_type": "code",
      "execution_count": 10,
      "metadata": {
        "trusted": true
      },
      "outputs": [
        {
          "name": "stdout",
          "output_type": "stream",
          "text": [
            "8\n"
          ]
        }
      ],
      "source": [
        "\n",
        "def totient(n):\n",
        "    if n == 1:\n",
        "        return 1\n",
        "    result = n\n",
        " \n",
        "   \n",
        "    \n",
        "    result = n\n",
        "    p = 2\n",
        "    while p * p <= n:\n",
        "        if n % p == 0:\n",
        "            while n % p == 0:\n",
        "                n //= p\n",
        "            result -= result // p\n",
        "        p += 1\n",
        "    if n > 1:\n",
        "        result -= result // n\n",
        "    return result  \n",
        "n = int(input(\"Enter a value for n: \"))\n",
        "\n",
        "\n",
        "print(totient(n))"
      ]
    },
    {
      "cell_type": "code",
      "execution_count": null,
      "metadata": {},
      "outputs": [],
      "source": []
    }
  ],
  "metadata": {
    "kernelspec": {
      "display_name": "Python 3",
      "language": "python",
      "name": "python3"
    },
    "language_info": {
      "codemirror_mode": {
        "name": "ipython",
        "version": 3
      },
      "file_extension": ".py",
      "mimetype": "text/x-python",
      "name": "python",
      "nbconvert_exporter": "python",
      "pygments_lexer": "ipython3",
      "version": "3.10.11"
    }
  },
  "nbformat": 4,
  "nbformat_minor": 4
}
