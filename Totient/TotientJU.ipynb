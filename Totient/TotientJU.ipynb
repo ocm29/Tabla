{
  "metadata": {
    "language_info": {
      "codemirror_mode": {
        "name": "python",
        "version": 3
      },
      "file_extension": ".py",
      "mimetype": "text/x-python",
      "name": "python",
      "nbconvert_exporter": "python",
      "pygments_lexer": "ipython3",
      "version": "3.8"
    },
    "kernelspec": {
      "name": "python",
      "display_name": "Python (Pyodide)",
      "language": "python"
    }
  },
  "nbformat_minor": 4,
  "nbformat": 4,
  "cells": [
    {
      "cell_type": "markdown",
      "source": "### Coprimos\n\n\n\n\n\n\n\n\n\n\n\n\n",
      "metadata": {}
    },
    {
      "cell_type": "markdown",
      "source": "Siendo n un numero entero positivo conocer los numeros menores a n y coprimos con este nos permite saber los posibles tamaños de subgrupos de un grupo.\n### Verificacion de coprimos uno a uno\nPrimero creamos una funcin que retorne el MCD",
      "metadata": {}
    },
    {
      "cell_type": "code",
      "source": "def mcd(a, b):\n    \n    while b != 0:\n        temp = b\n        b = a % b\n        a = temp\n    return a",
      "metadata": {
        "trusted": true
      },
      "execution_count": 2,
      "outputs": []
    },
    {
      "cell_type": "markdown",
      "source": "Luego se crea una funcion que recibe el entero n, utiliza la funcion anterior para verificar que MCD = 1 y retorna el tamaño del arreglo donde se almacenan los numeros que cumplen la condición.\ndef find_numbers(n):",
      "metadata": {}
    },
    {
      "cell_type": "code",
      "source": "\n    result = []\n    for i in range(1, n):\n        \n    \n        if (mcd(i,n) == 1 ):\n         \n  \n            result.append(i)\n    return len(result)",
      "metadata": {
        "trusted": true
      },
      "execution_count": 3,
      "outputs": [
        {
          "ename": "<class 'NameError'>",
          "evalue": "name 'n' is not defined",
          "traceback": [
            "\u001b[0;31m---------------------------------------------------------------------------\u001b[0m",
            "\u001b[0;31mNameError\u001b[0m                                 Traceback (most recent call last)",
            "Cell \u001b[0;32mIn[3], line 2\u001b[0m\n\u001b[1;32m      1\u001b[0m result \u001b[38;5;241m=\u001b[39m []\n\u001b[0;32m----> 2\u001b[0m \u001b[38;5;28;01mfor\u001b[39;00m i \u001b[38;5;129;01min\u001b[39;00m \u001b[38;5;28mrange\u001b[39m(\u001b[38;5;241m1\u001b[39m, \u001b[43mn\u001b[49m):\n\u001b[1;32m      5\u001b[0m     \u001b[38;5;28;01mif\u001b[39;00m (mcd(i,n) \u001b[38;5;241m==\u001b[39m \u001b[38;5;241m1\u001b[39m ):\n\u001b[1;32m      8\u001b[0m         result\u001b[38;5;241m.\u001b[39mappend(i)\n",
            "\u001b[0;31mNameError\u001b[0m: name 'n' is not defined"
          ],
          "output_type": "error"
        }
      ]
    },
    {
      "cell_type": "markdown",
      "source": "por ultimo se tiene el codigo que solicita el n y luego imprime la funcion.",
      "metadata": {}
    },
    {
      "cell_type": "code",
      "source": "n = int(input(\"Enter a value for n: \"))\n",
      "metadata": {
        "trusted": true
      },
      "execution_count": 4,
      "outputs": [
        {
          "ename": "<class 'TypeError'>",
          "evalue": "int() argument must be a string, a bytes-like object or a real number, not 'PyodideFuture'",
          "traceback": [
            "\u001b[0;31m---------------------------------------------------------------------------\u001b[0m",
            "\u001b[0;31mTypeError\u001b[0m                                 Traceback (most recent call last)",
            "Cell \u001b[0;32mIn[4], line 1\u001b[0m\n\u001b[0;32m----> 1\u001b[0m n \u001b[38;5;241m=\u001b[39m \u001b[38;5;28;43mint\u001b[39;49m\u001b[43m(\u001b[49m\u001b[38;5;28;43minput\u001b[39;49m\u001b[43m(\u001b[49m\u001b[38;5;124;43m\"\u001b[39;49m\u001b[38;5;124;43mEnter a value for n: \u001b[39;49m\u001b[38;5;124;43m\"\u001b[39;49m\u001b[43m)\u001b[49m\u001b[43m)\u001b[49m\n",
            "\u001b[0;31mTypeError\u001b[0m: int() argument must be a string, a bytes-like object or a real number, not 'PyodideFuture'"
          ],
          "output_type": "error"
        }
      ]
    },
    {
      "cell_type": "code",
      "source": "print(find_numbers(n))",
      "metadata": {
        "trusted": true
      },
      "execution_count": 5,
      "outputs": [
        {
          "ename": "<class 'NameError'>",
          "evalue": "name 'find_numbers' is not defined",
          "traceback": [
            "\u001b[0;31m---------------------------------------------------------------------------\u001b[0m",
            "\u001b[0;31mNameError\u001b[0m                                 Traceback (most recent call last)",
            "Cell \u001b[0;32mIn[5], line 1\u001b[0m\n\u001b[0;32m----> 1\u001b[0m \u001b[38;5;28mprint\u001b[39m(\u001b[43mfind_numbers\u001b[49m(n))\n",
            "\u001b[0;31mNameError\u001b[0m: name 'find_numbers' is not defined"
          ],
          "output_type": "error"
        }
      ]
    },
    {
      "cell_type": "markdown",
      "source": "### Totient de Euler\nEl totiente de un número natural n es indicar que es la cantidad de números enteros positivos menores que n tales que el máximo común divisor con respecto a n es igual a 1.\nSe sigue de la definición que $\\varphi (m)=1$ pues el elemento 1 sólo puede ser coprimo consigo mismo. Por lo que la funcion retorna 1",
      "metadata": {}
    },
    {
      "cell_type": "markdown",
      "source": "$\\cdot$ La variable result se inicializa en n\n\n$\\cdot$ La función luego verifica todos los números primos p menores o iguales que la raíz cuadrada de n utilizando un bucle while\n\n$\\cdot$ Si p divide a n, entonces la función divide n por p repetidamente hasta que ya no sea divisible por p.\n\n$\\cdot$ Luego resta el resultado dividido por p al resultado. Esto se debe a que φ(n) es igual a n multiplicado por el producto de (1 - 1/p) sobre todos los factores primos distintos p de n.\n\n$\\cdot$ Despues el bucle incrementa p en q hasta que p*p sea mayor que n\n\n$\\cdot$   Si n sigue siendo mayor que 1, la función resta al resultado el cociente resultante de dividir el resultado entre n, ya que n es un factor primo de n.\n",
      "metadata": {}
    },
    {
      "cell_type": "code",
      "source": "\ndef totient(n):\n    if n == 1:\n        return 1\n    result = n\n \n   \n    \n    result = n\n    p = 2\n    while p * p <= n:\n        if n % p == 0:\n            while n % p == 0:\n                n //= p\n            result -= result // p\n        p += 1\n    if n > 1:\n        result -= result // n\n    return result  \nn = int(input(\"Enter a value for n: \"))\n\n\nprint(totient(n))",
      "metadata": {
        "trusted": true
      },
      "execution_count": 8,
      "outputs": [
        {
          "ename": "<class 'TypeError'>",
          "evalue": "int() argument must be a string, a bytes-like object or a real number, not 'PyodideFuture'",
          "traceback": [
            "\u001b[0;31m---------------------------------------------------------------------------\u001b[0m",
            "\u001b[0;31mTypeError\u001b[0m                                 Traceback (most recent call last)",
            "Cell \u001b[0;32mIn[8], line 19\u001b[0m\n\u001b[1;32m     17\u001b[0m         result \u001b[38;5;241m-\u001b[39m\u001b[38;5;241m=\u001b[39m result \u001b[38;5;241m/\u001b[39m\u001b[38;5;241m/\u001b[39m n\n\u001b[1;32m     18\u001b[0m     \u001b[38;5;28;01mreturn\u001b[39;00m result  \n\u001b[0;32m---> 19\u001b[0m n \u001b[38;5;241m=\u001b[39m \u001b[38;5;28;43mint\u001b[39;49m\u001b[43m(\u001b[49m\u001b[38;5;28;43minput\u001b[39;49m\u001b[43m(\u001b[49m\u001b[38;5;124;43m\"\u001b[39;49m\u001b[38;5;124;43mEnter a value for n: \u001b[39;49m\u001b[38;5;124;43m\"\u001b[39;49m\u001b[43m)\u001b[49m\u001b[43m)\u001b[49m\n\u001b[1;32m     22\u001b[0m \u001b[38;5;28mprint\u001b[39m(totient(n))\n",
            "\u001b[0;31mTypeError\u001b[0m: int() argument must be a string, a bytes-like object or a real number, not 'PyodideFuture'"
          ],
          "output_type": "error"
        }
      ]
    },
    {
      "cell_type": "code",
      "source": "",
      "metadata": {},
      "execution_count": null,
      "outputs": []
    }
  ]
}